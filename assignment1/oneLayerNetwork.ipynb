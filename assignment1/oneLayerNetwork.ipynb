{
 "cells": [
  {
   "cell_type": "code",
   "execution_count": 1,
   "metadata": {
    "collapsed": true
   },
   "outputs": [],
   "source": [
    "import numpy as np\n",
    "import math"
   ]
  },
  {
   "cell_type": "code",
   "execution_count": 63,
   "metadata": {
    "collapsed": false
   },
   "outputs": [],
   "source": [
    "class OneLayerNet(object):\n",
    "    \n",
    "    def __init__(self, input_size, output_size, data = x):\n",
    "        self.x = x\n",
    "        self.W = np.random.randn(output_size,input_size)\n",
    "        self.b = np.random.randn(output_size, x.shape[1])\n",
    "                \n",
    "    def forward(self):\n",
    "       \n",
    "        z = np.dot(self.W,x) + self.b\n",
    "        f = np.zeros(z.shape[0])\n",
    "        f = [lambda m: 1.0 / (1.0 + math.exp(-m)), z]\n",
    "        \n",
    "        return f[1], z\n",
    "    \n",
    "    def backward(self, f):\n",
    "        dz = (1.0 - f) * f \n",
    "        dw = np.dot(self.x, dz)\n",
    "        dx = np.dot(self.W.T, dz)\n",
    "        db = dz\n",
    "        \n",
    "        return dx, dw,db"
   ]
  },
  {
   "cell_type": "code",
   "execution_count": null,
   "metadata": {
    "collapsed": true
   },
   "outputs": [],
   "source": [
    "x = np.array([[8,5,5,6],[4,5,5,6]])\n",
    "nn = OneLayerNet(input_size = 2, output_size = 4, data = x)\n",
    "\n",
    "f,z = nn.forward()\n",
    "dx, dw,db = nn.backward(f)"
   ]
  }
 ],
 "metadata": {
  "anaconda-cloud": {},
  "kernelspec": {
   "display_name": "Python [conda env:py27]",
   "language": "python",
   "name": "conda-env-py27-py"
  },
  "language_info": {
   "codemirror_mode": {
    "name": "ipython",
    "version": 2.0
   },
   "file_extension": ".py",
   "mimetype": "text/x-python",
   "name": "python",
   "nbconvert_exporter": "python",
   "pygments_lexer": "ipython2",
   "version": "2.7.12"
  }
 },
 "nbformat": 4,
 "nbformat_minor": 0
}