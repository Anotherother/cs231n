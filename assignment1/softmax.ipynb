{
 "cells": [
  {
   "cell_type": "markdown",
   "metadata": {},
   "source": [
    "# Softmax exercise\n",
    "\n",
    "*Complete and hand in this completed worksheet (including its outputs and any supporting code outside of the worksheet) with your assignment submission. For more details see the [assignments page](http://vision.stanford.edu/teaching/cs231n/assignments.html) on the course website.*\n",
    "\n",
    "This exercise is analogous to the SVM exercise. You will:\n",
    "\n",
    "- implement a fully-vectorized **loss function** for the Softmax classifier\n",
    "- implement the fully-vectorized expression for its **analytic gradient**\n",
    "- **check your implementation** with numerical gradient\n",
    "- use a validation set to **tune the learning rate and regularization** strength\n",
    "- **optimize** the loss function with **SGD**\n",
    "- **visualize** the final learned weights\n"
   ]
  },
  {
   "cell_type": "code",
   "execution_count": 11,
   "metadata": {
    "collapsed": false
   },
   "outputs": [
    {
     "name": "stdout",
     "output_type": "stream",
     "text": [
      "The autoreload extension is already loaded. To reload it, use:\n",
      "  %reload_ext autoreload\n"
     ]
    }
   ],
   "source": [
    "import random\n",
    "import numpy as np\n",
    "from cs231n.data_utils import load_CIFAR10\n",
    "import matplotlib.pyplot as plt\n",
    "%matplotlib inline\n",
    "plt.rcParams['figure.figsize'] = (10.0, 8.0) # set default size of plots\n",
    "plt.rcParams['image.interpolation'] = 'nearest'\n",
    "plt.rcParams['image.cmap'] = 'gray'\n",
    "\n",
    "# for auto-reloading extenrnal modules\n",
    "# see http://stackoverflow.com/questions/1907993/autoreload-of-modules-in-ipython\n",
    "%load_ext autoreload\n",
    "%autoreload 2"
   ]
  },
  {
   "cell_type": "code",
   "execution_count": 12,
   "metadata": {
    "collapsed": false
   },
   "outputs": [
    {
     "name": "stdout",
     "output_type": "stream",
     "text": [
      "Train data shape:  (49000L, 3073L)\n",
      "Train labels shape:  (49000L,)\n",
      "Validation data shape:  (1000L, 3073L)\n",
      "Validation labels shape:  (1000L,)\n",
      "Test data shape:  (1000L, 3073L)\n",
      "Test labels shape:  (1000L,)\n",
      "dev data shape:  (500L, 3073L)\n",
      "dev labels shape:  (500L,)\n"
     ]
    }
   ],
   "source": [
    "def get_CIFAR10_data(num_training=49000, num_validation=1000, num_test=1000, num_dev=500):\n",
    "  \"\"\"\n",
    "  Load the CIFAR-10 dataset from disk and perform preprocessing to prepare\n",
    "  it for the linear classifier. These are the same steps as we used for the\n",
    "  SVM, but condensed to a single function.  \n",
    "  \"\"\"\n",
    "  # Load the raw CIFAR-10 data\n",
    "  cifar10_dir = 'cs231n/datasets/cifar-10-batches-py'\n",
    "  X_train, y_train, X_test, y_test = load_CIFAR10(cifar10_dir)\n",
    "  \n",
    "  # subsample the data\n",
    "  mask = range(num_training, num_training + num_validation)\n",
    "  X_val = X_train[mask]\n",
    "  y_val = y_train[mask]\n",
    "  mask = range(num_training)\n",
    "  X_train = X_train[mask]\n",
    "  y_train = y_train[mask]\n",
    "  mask = range(num_test)\n",
    "  X_test = X_test[mask]\n",
    "  y_test = y_test[mask]\n",
    "  mask = np.random.choice(num_training, num_dev, replace=False)\n",
    "  X_dev = X_train[mask]\n",
    "  y_dev = y_train[mask]\n",
    "  \n",
    "  # Preprocessing: reshape the image data into rows\n",
    "  X_train = np.reshape(X_train, (X_train.shape[0], -1))\n",
    "  X_val = np.reshape(X_val, (X_val.shape[0], -1))\n",
    "  X_test = np.reshape(X_test, (X_test.shape[0], -1))\n",
    "  X_dev = np.reshape(X_dev, (X_dev.shape[0], -1))\n",
    "  \n",
    "  # Normalize the data: subtract the mean image\n",
    "  mean_image = np.mean(X_train, axis = 0)\n",
    "  X_train -= mean_image\n",
    "  X_val -= mean_image\n",
    "  X_test -= mean_image\n",
    "  X_dev -= mean_image\n",
    "  \n",
    "  # add bias dimension and transform into columns\n",
    "  X_train = np.hstack([X_train, np.ones((X_train.shape[0], 1))])\n",
    "  X_val = np.hstack([X_val, np.ones((X_val.shape[0], 1))])\n",
    "  X_test = np.hstack([X_test, np.ones((X_test.shape[0], 1))])\n",
    "  X_dev = np.hstack([X_dev, np.ones((X_dev.shape[0], 1))])\n",
    "  \n",
    "  return X_train, y_train, X_val, y_val, X_test, y_test, X_dev, y_dev\n",
    "\n",
    "\n",
    "# Invoke the above function to get our data.\n",
    "X_train, y_train, X_val, y_val, X_test, y_test, X_dev, y_dev = get_CIFAR10_data()\n",
    "print 'Train data shape: ', X_train.shape\n",
    "print 'Train labels shape: ', y_train.shape\n",
    "print 'Validation data shape: ', X_val.shape\n",
    "print 'Validation labels shape: ', y_val.shape\n",
    "print 'Test data shape: ', X_test.shape\n",
    "print 'Test labels shape: ', y_test.shape\n",
    "print 'dev data shape: ', X_dev.shape\n",
    "print 'dev labels shape: ', y_dev.shape"
   ]
  },
  {
   "cell_type": "markdown",
   "metadata": {},
   "source": [
    "## Softmax Classifier\n",
    "\n",
    "Your code for this section will all be written inside **cs231n/classifiers/softmax.py**. \n"
   ]
  },
  {
   "cell_type": "code",
   "execution_count": 19,
   "metadata": {
    "collapsed": false
   },
   "outputs": [
    {
     "name": "stdout",
     "output_type": "stream",
     "text": [
      "loss: 2.342017\n",
      "sanity check: 2.302585\n"
     ]
    }
   ],
   "source": [
    "# First implement the naive softmax loss function with nested loops.\n",
    "# Open the file cs231n/classifiers/softmax.py and implement the\n",
    "# softmax_loss_naive function.\n",
    "\n",
    "from cs231n.classifiers.softmax import softmax_loss_naive\n",
    "import time\n",
    "\n",
    "# Generate a random softmax weight matrix and use it to compute the loss.\n",
    "W = np.random.randn(3073, 10) * 0.0001\n",
    "loss, grad = softmax_loss_naive(W, X_dev, y_dev, 0.0)\n",
    "\n",
    "# As a rough sanity check, our loss should be something close to -log(0.1).\n",
    "print 'loss: %f' % loss\n",
    "print 'sanity check: %f' % (-np.log(0.1))"
   ]
  },
  {
   "cell_type": "markdown",
   "metadata": {},
   "source": [
    "## Inline Question 1:\n",
    "Why do we expect our loss to be close to -log(0.1)? Explain briefly.**\n",
    "\n",
    "**Your answer:** *Fill this in*\n"
   ]
  },
  {
   "cell_type": "code",
   "execution_count": 20,
   "metadata": {
    "collapsed": false
   },
   "outputs": [
    {
     "name": "stdout",
     "output_type": "stream",
     "text": [
      "numerical: -1.428527 analytic: -1.428527, relative error: 1.983561e-08\n",
      "numerical: 3.234648 analytic: 3.234648, relative error: 3.349239e-09\n",
      "numerical: -1.014069 analytic: -1.014069, relative error: 3.310009e-08\n",
      "numerical: -0.939367 analytic: -0.939367, relative error: 3.678443e-08\n",
      "numerical: 3.683110 analytic: 3.683109, relative error: 2.079774e-08\n",
      "numerical: 0.978845 analytic: 0.978845, relative error: 2.191758e-08\n",
      "numerical: -0.846166 analytic: -0.846166, relative error: 3.008252e-08\n",
      "numerical: -4.697455 analytic: -4.697455, relative error: 1.904549e-10\n",
      "numerical: -1.453788 analytic: -1.453788, relative error: 5.500217e-09\n",
      "numerical: -1.235801 analytic: -1.235801, relative error: 4.826455e-08\n",
      "numerical: 1.342132 analytic: 1.342132, relative error: 8.641275e-08\n",
      "numerical: 0.500333 analytic: 0.500333, relative error: 1.879368e-09\n",
      "numerical: -0.337226 analytic: -0.337226, relative error: 4.202853e-08\n",
      "numerical: 1.020282 analytic: 1.020282, relative error: 5.361985e-08\n",
      "numerical: -1.309128 analytic: -1.309128, relative error: 1.738364e-08\n",
      "numerical: 3.924313 analytic: 3.924313, relative error: 1.029714e-08\n",
      "numerical: -2.276641 analytic: -2.276641, relative error: 1.971412e-08\n",
      "numerical: -0.481534 analytic: -0.481534, relative error: 5.196988e-08\n",
      "numerical: -0.023994 analytic: -0.023994, relative error: 7.894466e-07\n",
      "numerical: -0.575531 analytic: -0.575531, relative error: 8.062100e-09\n"
     ]
    }
   ],
   "source": [
    "# Complete the implementation of softmax_loss_naive and implement a (naive)\n",
    "# version of the gradient that uses nested loops.\n",
    "loss, grad = softmax_loss_naive(W, X_dev, y_dev, 0.0)\n",
    "\n",
    "# As we did for the SVM, use numeric gradient checking as a debugging tool.\n",
    "# The numeric gradient should be close to the analytic gradient.\n",
    "from cs231n.gradient_check import grad_check_sparse\n",
    "f = lambda w: softmax_loss_naive(w, X_dev, y_dev, 0.0)[0]\n",
    "grad_numerical = grad_check_sparse(f, W, grad, 10)\n",
    "\n",
    "# similar to SVM case, do another gradient check with regularization\n",
    "loss, grad = softmax_loss_naive(W, X_dev, y_dev, 1e2)\n",
    "f = lambda w: softmax_loss_naive(w, X_dev, y_dev, 1e2)[0]\n",
    "grad_numerical = grad_check_sparse(f, W, grad, 10)"
   ]
  },
  {
   "cell_type": "code",
   "execution_count": 22,
   "metadata": {
    "collapsed": false
   },
   "outputs": [
    {
     "name": "stdout",
     "output_type": "stream",
     "text": [
      "naive loss: 2.342017e+00 computed in 0.292000s\n",
      "vectorized loss: 2.342017e+00 computed in 0.311000s\n",
      "Loss difference: 0.000000\n",
      "Gradient difference: 0.000000\n"
     ]
    }
   ],
   "source": [
    "# Now that we have a naive implementation of the softmax loss function and its gradient,\n",
    "# implement a vectorized version in softmax_loss_vectorized.\n",
    "# The two versions should compute the same results, but the vectorized version should be\n",
    "# much faster.\n",
    "tic = time.time()\n",
    "loss_naive, grad_naive = softmax_loss_naive(W, X_dev, y_dev, 0.00001)\n",
    "toc = time.time()\n",
    "print 'naive loss: %e computed in %fs' % (loss_naive, toc - tic)\n",
    "\n",
    "from cs231n.classifiers.softmax import softmax_loss_vectorized\n",
    "tic = time.time()\n",
    "loss_vectorized, grad_vectorized = softmax_loss_vectorized(W, X_dev, y_dev, 0.00001)\n",
    "toc = time.time()\n",
    "print 'vectorized loss: %e computed in %fs' % (loss_vectorized, toc - tic)\n",
    "\n",
    "# As we did for the SVM, we use the Frobenius norm to compare the two versions\n",
    "# of the gradient.\n",
    "grad_difference = np.linalg.norm(grad_naive - grad_vectorized, ord='fro')\n",
    "print 'Loss difference: %f' % np.abs(loss_naive - loss_vectorized)\n",
    "print 'Gradient difference: %f' % grad_difference"
   ]
  },
  {
   "cell_type": "code",
   "execution_count": 29,
   "metadata": {
    "collapsed": false
   },
   "outputs": [
    {
     "name": "stdout",
     "output_type": "stream",
     "text": [
      "iteration 0 / 2000: loss 769.409638\n",
      "iteration 100 / 2000: loss 766.967035\n",
      "iteration 200 / 2000: loss 765.030997\n",
      "iteration 300 / 2000: loss 763.558045\n",
      "iteration 400 / 2000: loss 762.249205\n",
      "iteration 500 / 2000: loss 761.599428\n",
      "iteration 600 / 2000: loss 760.241413\n",
      "iteration 700 / 2000: loss 759.631470\n",
      "iteration 800 / 2000: loss 758.536470\n",
      "iteration 900 / 2000: loss 757.690288\n",
      "iteration 1000 / 2000: loss 756.801532\n",
      "iteration 1100 / 2000: loss 756.368760\n",
      "iteration 1200 / 2000: loss 755.564237\n",
      "iteration 1300 / 2000: loss 754.821181\n",
      "iteration 1400 / 2000: loss 754.166366\n",
      "iteration 1500 / 2000: loss 753.498858\n",
      "iteration 1600 / 2000: loss 752.807241\n",
      "iteration 1700 / 2000: loss 752.085253\n",
      "iteration 1800 / 2000: loss 751.917848\n",
      "iteration 1900 / 2000: loss 751.076248\n",
      "iteration 0 / 2000: loss 1526071.190578\n",
      "iteration 100 / 2000: loss 1522478.631005\n",
      "iteration 200 / 2000: loss 1520024.105826\n",
      "iteration 300 / 2000: loss 1517921.437848\n",
      "iteration 400 / 2000: loss 1516004.125711\n",
      "iteration 500 / 2000: loss 1514200.129304\n",
      "iteration 600 / 2000: loss 1512486.661603\n",
      "iteration 700 / 2000: loss 1510829.576507\n",
      "iteration 800 / 2000: loss 1509240.286212\n",
      "iteration 900 / 2000: loss 1507708.666763\n",
      "iteration 1000 / 2000: loss 1506214.225268\n",
      "iteration 1100 / 2000: loss 1504803.014654\n",
      "iteration 1200 / 2000: loss 1503403.692751\n",
      "iteration 1300 / 2000: loss 1502045.058049\n",
      "iteration 1400 / 2000: loss 1500695.570915\n",
      "iteration 1500 / 2000: loss 1499406.342375\n",
      "iteration 1600 / 2000: loss 1498132.462666\n",
      "iteration 1700 / 2000: loss 1496900.982755\n",
      "iteration 1800 / 2000: loss 1495672.316247\n",
      "iteration 1900 / 2000: loss 1494468.622651\n",
      "iteration 0 / 2000: loss 777.722262\n",
      "iteration 100 / 2000: loss 767.054613\n",
      "iteration 200 / 2000: loss 762.832972\n",
      "iteration 300 / 2000: loss 758.903725\n",
      "iteration 400 / 2000: loss 755.880842\n",
      "iteration 500 / 2000: loss 752.932093\n",
      "iteration 600 / 2000: loss 750.293436\n",
      "iteration 700 / 2000: loss 747.861645\n",
      "iteration 800 / 2000: loss 745.708692\n",
      "iteration 900 / 2000: loss 743.428718\n",
      "iteration 1000 / 2000: loss 741.528606\n",
      "iteration 1100 / 2000: loss 739.559921\n",
      "iteration 1200 / 2000: loss 737.649130\n",
      "iteration 1300 / 2000: loss 735.960730\n",
      "iteration 1400 / 2000: loss 734.101501\n",
      "iteration 1500 / 2000: loss 732.733661\n",
      "iteration 1600 / 2000: loss 731.044884\n",
      "iteration 1700 / 2000: loss 729.612810\n",
      "iteration 1800 / 2000: loss 728.186012\n",
      "iteration 1900 / 2000: loss 726.706967\n",
      "iteration 0 / 2000: loss 1557138.354123\n",
      "iteration 100 / 2000: loss 1544441.463390\n",
      "iteration 200 / 2000: loss 1536121.664255\n",
      "iteration 300 / 2000: loss 1529296.307859\n",
      "iteration 400 / 2000: loss 1523253.292890\n",
      "iteration 500 / 2000: loss 1517923.630482\n",
      "iteration 600 / 2000: loss 1512973.041225\n",
      "iteration 700 / 2000: loss 1508474.234718\n",
      "iteration 800 / 2000: loss 1504039.201167\n",
      "iteration 900 / 2000: loss 1499972.117945\n",
      "iteration 1000 / 2000: loss 1496168.884454\n",
      "iteration 1100 / 2000: loss 1492437.169032\n",
      "iteration 1200 / 2000: loss 1488997.080312\n",
      "iteration 1300 / 2000: loss 1485610.080241\n",
      "iteration 1400 / 2000: loss 1482356.124887\n",
      "iteration 1500 / 2000: loss 1479289.916761\n",
      "iteration 1600 / 2000: loss 1476212.147348\n",
      "iteration 1700 / 2000: loss 1473348.505309\n",
      "iteration 1800 / 2000: loss 1470537.727202\n",
      "iteration 1900 / 2000: loss 1467869.398051\n",
      "lr 1.000000e-07 reg 5.000000e+04 train accuracy: 0.259163 val accuracy: 0.282000\n",
      "lr 1.000000e-07 reg 1.000000e+08 train accuracy: 0.257571 val accuracy: 0.259000\n",
      "lr 5.000000e-07 reg 5.000000e+04 train accuracy: 0.328980 val accuracy: 0.327000\n",
      "lr 5.000000e-07 reg 1.000000e+08 train accuracy: 0.327980 val accuracy: 0.329000\n",
      "best validation accuracy achieved during cross-validation: 0.329000\n"
     ]
    }
   ],
   "source": [
    "# Use the validation set to tune hyperparameters (regularization strength and\n",
    "# learning rate). You should experiment with different ranges for the learning\n",
    "# rates and regularization strengths; if you are careful you should be able to\n",
    "# get a classification accuracy of over 0.35 on the validation set.\n",
    "from cs231n.classifiers import Softmax\n",
    "results = {}\n",
    "best_val = -1\n",
    "best_softmax = None\n",
    "learning_rates = [1e-7, 5e-7]\n",
    "regularization_strengths = [5e4, 1e8]\n",
    "\n",
    "################################################################################\n",
    "# TODO:                                                                        #\n",
    "# Use the validation set to set the learning rate and regularization strength. #\n",
    "# This should be identical to the validation that you did for the SVM; save    #\n",
    "# the best trained softmax classifer in best_softmax.                          #\n",
    "################################################################################\n",
    "for lr in learning_rates:\n",
    "    for rs in regularization_strengths:\n",
    "        softmax = Softmax()\n",
    "        softmax.train(X_train, y_train, learning_rate=lr, reg=rs,\n",
    "                          num_iters=2000, verbose=True)\n",
    "        y_train_pred = softmax.predict(X_train)\n",
    "        y_val_pred = softmax.predict(X_val)\n",
    "        train_accuracy = np.mean(y_train == y_train_pred)\n",
    "        val_accuracy = np.mean(y_val == y_val_pred)\n",
    "        if val_accuracy > best_val:\n",
    "            best_val = val_accuracy\n",
    "            best_softmax = softmax\n",
    "            \n",
    "        results[(lr,rs)] = train_accuracy, val_accuracy\n",
    "################################################################################\n",
    "#                              END OF YOUR CODE                                #\n",
    "################################################################################\n",
    "    \n",
    "# Print out results.\n",
    "for lr, reg in sorted(results):\n",
    "    train_accuracy, val_accuracy = results[(lr, reg)]\n",
    "    print 'lr %e reg %e train accuracy: %f val accuracy: %f' % (\n",
    "                lr, reg, train_accuracy, val_accuracy)\n",
    "    \n",
    "print 'best validation accuracy achieved during cross-validation: %f' % best_val"
   ]
  },
  {
   "cell_type": "code",
   "execution_count": 30,
   "metadata": {
    "collapsed": false
   },
   "outputs": [
    {
     "name": "stdout",
     "output_type": "stream",
     "text": [
      "softmax on raw pixels final test set accuracy: 0.300000\n"
     ]
    }
   ],
   "source": [
    "# evaluate on test set\n",
    "# Evaluate the best softmax on test set\n",
    "y_test_pred = best_softmax.predict(X_test)\n",
    "test_accuracy = np.mean(y_test == y_test_pred)\n",
    "print 'softmax on raw pixels final test set accuracy: %f' % (test_accuracy, )"
   ]
  },
  {
   "cell_type": "code",
   "execution_count": 31,
   "metadata": {
    "collapsed": false
   },
   "outputs": [
    {
     "data": {
      "image/png": "[encoded data removed]",
      "text/plain": [
       "<matplotlib.figure.Figure at 0x8ffbdd8>"
      ]
     },
     "metadata": {},
     "output_type": "display_data"
    }
   ],
   "source": [
    "# Visualize the learned weights for each class\n",
    "w = best_softmax.W[:-1,:] # strip out the bias\n",
    "w = w.reshape(32, 32, 3, 10)\n",
    "\n",
    "w_min, w_max = np.min(w), np.max(w)\n",
    "\n",
    "classes = ['plane', 'car', 'bird', 'cat', 'deer', 'dog', 'frog', 'horse', 'ship', 'truck']\n",
    "for i in xrange(10):\n",
    "  plt.subplot(2, 5, i + 1)\n",
    "  \n",
    "  # Rescale the weights to be between 0 and 255\n",
    "  wimg = 255.0 * (w[:, :, :, i].squeeze() - w_min) / (w_max - w_min)\n",
    "  plt.imshow(wimg.astype('uint8'))\n",
    "  plt.axis('off')\n",
    "  plt.title(classes[i])"
   ]
  }
 ],
 "metadata": {
  "anaconda-cloud": {},
  "kernelspec": {
   "display_name": "Python [default]",
   "language": "python",
   "name": "python2"
  },
  "language_info": {
   "codemirror_mode": {
    "name": "ipython",
    "version": 2
   },
   "file_extension": ".py",
   "mimetype": "text/x-python",
   "name": "python",
   "nbconvert_exporter": "python",
   "pygments_lexer": "ipython2",
   "version": "2.7.12"
  }
 },
 "nbformat": 4,
 "nbformat_minor": 0
}
